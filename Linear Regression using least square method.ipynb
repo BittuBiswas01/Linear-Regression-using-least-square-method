{
 "cells": [
  {
   "cell_type": "code",
   "execution_count": 1,
   "id": "5c304aa3-85aa-44b8-b5e9-877472ac1f0e",
   "metadata": {},
   "outputs": [
    {
     "name": "stdout",
     "output_type": "stream",
     "text": [
      "[-2  1  2  3]\n",
      "[-1  1  0  2]\n",
      "1.0\n",
      "0.5\n",
      "coefficients for regression 0.5 0.0\n"
     ]
    }
   ],
   "source": [
    "import numpy as np \n",
    "x=np.array([-2,1,2,3])\n",
    "y=np.array([-1,1,0,2])\n",
    "print(x)\n",
    "print(y)\n",
    "mean_x = np.mean(x)\n",
    "mean_y = np.mean(y)\n",
    "print(mean_x)\n",
    "print(mean_y)\n",
    "n = len(x)\n",
    "numer = 0\n",
    "denom = 0\n",
    "for i in range(n):\n",
    "    numer += (x[i] - mean_x) * (y[i] - mean_y)\n",
    "    denom += (x[i] - mean_x) ** 2\n",
    "b1 = numer / denom\n",
    "b0 = mean_y - (b1 * mean_x)\n",
    "\n",
    "# Printing coefficients\n",
    "print(\"coefficients for regression\",b1, b0)"
   ]
  },
  {
   "cell_type": "code",
   "execution_count": null,
   "id": "03c1b6f5-73c7-4896-bb8f-1b17f79acc7c",
   "metadata": {},
   "outputs": [],
   "source": []
  }
 ],
 "metadata": {
  "kernelspec": {
   "display_name": "Python 3 (ipykernel)",
   "language": "python",
   "name": "python3"
  },
  "language_info": {
   "codemirror_mode": {
    "name": "ipython",
    "version": 3
   },
   "file_extension": ".py",
   "mimetype": "text/x-python",
   "name": "python",
   "nbconvert_exporter": "python",
   "pygments_lexer": "ipython3",
   "version": "3.11.5"
  }
 },
 "nbformat": 4,
 "nbformat_minor": 5
}
